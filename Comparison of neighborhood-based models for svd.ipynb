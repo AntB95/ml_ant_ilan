{
 "cells": [
  {
   "cell_type": "code",
   "execution_count": 1,
   "metadata": {},
   "outputs": [],
   "source": [
    "#import package \n",
    "from surprise import SVD, NMF, Dataset, Reader, SVDpp, BaselineOnly, KNNBaseline, SlopeOne, accuracy\n",
    "from surprise.model_selection import cross_validate, GridSearchCV,train_test_split, KFold, GridSearchCV\n",
    "from sklearn.model_selection import KFold as skFold\n",
    "from sklearn.model_selection import train_test_split\n",
    "from sklearn.linear_model import RidgeCV, Ridge\n",
    "from project_helpers import *\n",
    "from math import *\n",
    "import pandas as pd \n",
    "import matplotlib.pyplot as plt\n",
    "#seed\n",
    "random.seed(404)\n",
    "np.random.seed(404)"
   ]
  },
  {
   "cell_type": "code",
   "execution_count": null,
   "metadata": {},
   "outputs": [],
   "source": [
    "train = pd.read_csv(r'data_train.csv')\n",
    "train = df_to_surprise(train)\n",
    "traing_set = train.sample(frac = 0.8, random_state = 200)\n",
    "blender_set = train.drop(traing_set.index)\n",
    "reader = Reader(rating_scale=(1, 5))\n",
    "#surprise configuration\n",
    "traing_set_surp = Dataset.load_from_df(traing_set, reader)\n",
    "#load the traing_set as a full surprise trainset\n",
    "traing_set_surp_train = traing_set_surp.build_full_trainset()\n",
    "#surprise configuration\n",
    "blend_surp = Dataset.load_from_df(blender_set, reader)\n",
    "#load the blend as a full surprise trainset\n",
    "blend_surp_train = blend_surp.build_full_trainset()\n",
    "\n",
    "#Load blend train set as a testset for models performance evaluation\n",
    "blend_surp_test = blend_surp_train.build_testset()"
   ]
  },
  {
   "cell_type": "code",
   "execution_count": null,
   "metadata": {},
   "outputs": [],
   "source": [
    "K = [10,100,250,500,750,900]\n",
    "# tu peux me store rmse dans un file stp\n",
    "rmse = []\n",
    "for k in K:\n",
    "    algo_SVDb = SVD(n_factors = 999, lr_all = 0.005, biased = True, reg_all = 0.002, n_epochs = 20).fit(traing_set_surp_train)\n",
    "    predictions_SVDb = algo_SVDb.test(blend_surp_test)\n",
    "    rmse += [accuracy.rmse(predictions_SVDb, verbose=False)]"
   ]
  },
  {
   "cell_type": "code",
   "execution_count": null,
   "metadata": {},
   "outputs": [],
   "source": [
    "plt.plot(K,rmse)\n",
    "plt.xlabel('neighborhood size')\n",
    "plt.ylabel('RMSE')\n",
    "plt.title('Comparison of neighborhood-based models for svd basline')\n",
    "plt.grid()"
   ]
  }
 ],
 "metadata": {
  "kernelspec": {
   "display_name": "Python 3",
   "language": "python",
   "name": "python3"
  },
  "language_info": {
   "codemirror_mode": {
    "name": "ipython",
    "version": 3
   },
   "file_extension": ".py",
   "mimetype": "text/x-python",
   "name": "python",
   "nbconvert_exporter": "python",
   "pygments_lexer": "ipython3",
   "version": "3.7.3"
  }
 },
 "nbformat": 4,
 "nbformat_minor": 2
}
