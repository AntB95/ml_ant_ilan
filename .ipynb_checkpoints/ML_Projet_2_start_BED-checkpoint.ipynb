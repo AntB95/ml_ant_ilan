{
 "cells": [
  {
   "cell_type": "code",
   "execution_count": null,
   "metadata": {
    "collapsed": true
   },
   "outputs": [],
   "source": [
    "#!pip install scikit-surprise\n",
    "#!conda install -c conda-forge scikit-surprise"
   ]
  },
  {
   "cell_type": "code",
   "execution_count": 1,
   "metadata": {},
   "outputs": [
    {
     "name": "stderr",
     "output_type": "stream",
     "text": [
      "/home/antoine_bedanian/anaconda3/lib/python3.5/site-packages/sklearn/utils/fixes.py:313: FutureWarning: numpy not_equal will not check object identity in the future. The comparison did not return the same result as suggested by the identity (`is`)) and will change.\n",
      "  _nan_object_mask = _nan_object_array != _nan_object_array\n"
     ]
    }
   ],
   "source": [
    "from surprise import SVD, NMF, Dataset, Reader, SVDpp, BaselineOnly, KNNBaseline, SlopeOne, accuracy\n",
    "from surprise.model_selection import cross_validate, GridSearchCV,train_test_split, KFold, GridSearchCV\n",
    "from sklearn.model_selection import KFold as skFold\n",
    "from sklearn.model_selection import train_test_split\n",
    "from sklearn.linear_model import RidgeCV\n",
    "import pandas as pd \n",
    "from project_helpers import *\n",
    "from math import *\n",
    "\n",
    "#seed\n",
    "random.seed(404)\n",
    "np.random.seed(404)"
   ]
  },
  {
   "cell_type": "code",
   "execution_count": 2,
   "metadata": {
    "collapsed": true
   },
   "outputs": [],
   "source": [
    "train = pd.read_csv(r'data_train.csv')\n",
    "train = df_to_surprise(train)"
   ]
  },
  {
   "cell_type": "code",
   "execution_count": 3,
   "metadata": {
    "collapsed": true
   },
   "outputs": [],
   "source": [
    "#Split data into models training_set and blender_set\n",
    "traing_set = train.sample(frac = 0.8, random_state = 200)\n",
    "blender_set = train.drop(traing_set.index)"
   ]
  },
  {
   "cell_type": "code",
   "execution_count": 4,
   "metadata": {
    "collapsed": true
   },
   "outputs": [],
   "source": [
    "mean = global_mean(traing_set)\n",
    "users = user_mean(traing_set)\n",
    "movies = movie_mean(traing_set)"
   ]
  },
  {
   "cell_type": "code",
   "execution_count": 5,
   "metadata": {
    "collapsed": true
   },
   "outputs": [],
   "source": [
    "#Change both dataset into the surprise format\n",
    "#setup the rating scale\n",
    "reader = Reader(rating_scale=(1, 5))\n",
    "\n",
    "traing_set_surp = Dataset.load_from_df(traing_set, reader)\n",
    "traing_set_surp_train = traing_set_surp.build_full_trainset()\n",
    "blend_surp = Dataset.load_from_df(blender_set, reader)\n",
    "blend_surp_train = blend_surp.build_full_trainset()\n",
    "\n",
    "#Load blend train set as a testset for models performance evaluation\n",
    "blend_surp_test = blend_surp_train.build_testset()"
   ]
  },
  {
   "cell_type": "code",
   "execution_count": null,
   "metadata": {},
   "outputs": [
    {
     "name": "stdout",
     "output_type": "stream",
     "text": [
      "Best Hyperparameters:  {'bsl_options': {'reg': 1e-11, 'method': 'sgd'}, 'verbose': False}\n"
     ]
    },
    {
     "data": {
      "text/plain": [
       "<surprise.prediction_algorithms.baseline_only.BaselineOnly at 0x7f5bcc53be10>"
      ]
     },
     "execution_count": 6,
     "metadata": {},
     "output_type": "execute_result"
    }
   ],
   "source": [
    "#Baseline\n",
    "grid_baseline = {'bsl_options': {'method': ['sgd'],'reg': [10**-i for i in range(-3,12)]},'verbose':[False]}\n",
    "gs_baseline = GridSearchCV(BaselineOnly, grid_baseline, measures = ['rmse'], cv = KFold(n_splits = 3, random_state = 200, shuffle = False))\n",
    "gs_baseline.fit(traing_set_surp)\n",
    "print('Best Hyperparameters: ', gs_baseline.best_params['rmse'])\n",
    "algo_baseline = gs_baseline.best_estimator['rmse']\n",
    "algo_baseline.fit(traing_set_surp_train)"
   ]
  },
  {
   "cell_type": "code",
   "execution_count": null,
   "metadata": {
    "collapsed": true
   },
   "outputs": [],
   "source": [
    "#SVD + baseline\n",
    "grid_SVDb = {'reg_all': [10**-i for i in range(-3,12)], 'biased':[True], 'n_factors':[20, 50, 100, 200, 300, 400],'n_epochs':[500], 'lr_all':[0.0015]}\n",
    "gs_SVDb = GridSearchCV(SVD, grid_SVDb, measures = ['rmse'], cv = KFold(n_splits = 3, random_state = 200, shuffle = False))\n",
    "gs_SVDb.fit(traing_set_surp)\n",
    "print('Best Hyperparameters: ', gs_SVDb.best_params['rmse'])\n",
    "algo_SVDb = gs_SVDb.best_estimator['rmse']\n",
    "algo_SVDb.fit(traing_set_surp_train)"
   ]
  },
  {
   "cell_type": "code",
   "execution_count": null,
   "metadata": {
    "collapsed": true
   },
   "outputs": [],
   "source": [
    "#SVD without baseline\n",
    "grid_SVD = {'reg_all':[10**-i for i in range(-3,12)], 'biased':[False], 'n_factors':[1, 5, 10, 100, 200],'n_epochs':[500], 'lr_all':[0.0015]}\n",
    "gs_SVD = GridSearchCV(SVD, grid_SVD, measures = ['rmse'], cv = KFold(n_splits = 3, random_state = 200, shuffle = False))\n",
    "gs_SVD.fit(traing_set_surp)\n",
    "print('Best Hyperparameters: ', gs_SVD.best_params['rmse'])\n",
    "algo_SVD = gs_SVD.best_estimator['rmse']\n",
    "algo_SVD.fit(traing_set_surp_train)"
   ]
  },
  {
   "cell_type": "code",
   "execution_count": null,
   "metadata": {
    "collapsed": true
   },
   "outputs": [],
   "source": [
    "#SVD++\n",
    "grid_SVDpp = {}\n",
    "gs_SVDpp = GridSearchCV(SVDpp, grid_SVDpp, measures = ['rmse'], cv = KFold(n_splits = 3, random_state = 200, shuffle = False))\n",
    "gs_SVDpp.fit(traing_set_surp)\n",
    "print('Best Hyperparameters: ', gs_SVDpp.best_params['rmse'])\n",
    "algo_SVDpp = gs_SVDpp.best_estimator['rmse']\n",
    "algo_SVDpp.fit(traing_set_surp_train)"
   ]
  },
  {
   "cell_type": "code",
   "execution_count": null,
   "metadata": {
    "collapsed": true
   },
   "outputs": [],
   "source": [
    "#Slope One\n",
    "algo_slope_one = SlopeOne()\n",
    "algo_slope_one.fit((traing_set_surp_train)"
   ]
  },
  {
   "cell_type": "code",
   "execution_count": null,
   "metadata": {
    "collapsed": true
   },
   "outputs": [],
   "source": [
    "#KNN user\n",
    "grid_knn_user = {'bsl_options': {'method':['als'],'n_epochs':[50]},'k': [150, 200, 250, 300,350,400,450,500,550],\n",
    "                 'sim_options': {'name': ['pearson_baseline'],'min_support': [1],'user_based': [True]}}\n",
    "gs_knn_user = GridSearchCV(KNNBaseline, grid_knn_user, measures=['rmse'], cv = KFold(n_splits = 3, random_state = 200\n",
    "                                                                                     , shuffle = False))\n",
    "gs_knn_user.fit(traing_set_surp)\n",
    "print('Best Hyperparameters: ', gs_knn_user.best_params['rmse'])\n",
    "algo_knn_user = gs_knn_user.best_estimator['rmse']\n",
    "algo_knn_user.fit(traing_set_surp_train)"
   ]
  },
  {
   "cell_type": "code",
   "execution_count": null,
   "metadata": {
    "collapsed": true
   },
   "outputs": [],
   "source": [
    "#KNN movie\n",
    "grid_knn_movie = {'bsl_options': {'method':['als'],'n_epochs':[50]},'k': [150, 200, 250, 300,350,400,450,500,550],\n",
    "                  'sim_options': {'name': ['pearson_baseline'],'min_support': [1],'user_based': [False]}}\n",
    "gs_knn_movie = GridSearchCV(KNNBaseline, grid_knn_movie, measures = ['rmse'], cv = KFold(n_splits = 3\n",
    "                            , random_state = 200, shuffle = False))\n",
    "gs_knn_movie.fit(traing_set_surp)\n",
    "print('Best Hyperparameters: ', gs_knn_movie.best_params['rmse'])\n",
    "algo_knn_movie = gs_knn_movie.best_estimator['rmse']\n",
    "algo_knn_movie.fit(traing_set_surp_train)"
   ]
  },
  {
   "cell_type": "code",
   "execution_count": null,
   "metadata": {
    "collapsed": true
   },
   "outputs": [],
   "source": [
    "#we compute the prediction on the blending set\n",
    "predictions_baseline = algo_baseline.test(blend_surp_test)\n",
    "predictions_SVDb = algo_SVDb.test(blend_surp_test)\n",
    "predictions_SVD = algo_SVD.test(blend_surp_test)\n",
    "predictions_SVDpp = algo_SVDpp.test(blend_surp_test)\n",
    "predictions_slope_one = algo_slope_one.test(blend_surp_test)\n",
    "predictions_knn_movie = algo_knn_movie.test(blend_surp_test)"
   ]
  },
  {
   "cell_type": "code",
   "execution_count": null,
   "metadata": {
    "collapsed": true
   },
   "outputs": [],
   "source": [
    "#Recover ids and estimations for each algorithm\n",
    "uids = [pred.uid for pred in predictions_baseline]\n",
    "mids = [pred.iid for pred in predictions_baseline]\n",
    "ruis = [pred.r_ui for pred in predictions_baseline]\n",
    "est_baseline = [pred.est for pred in predictions_baseline]\n",
    "est_SVDb = [pred.est for pred in predictions_SVDb]\n",
    "est_SVD = [pred.est for pred in predictions_SVD]\n",
    "est_SVDpp = [pred.est for pred in predictions_SVDpp]\n",
    "est_slope_one = [pred.est for pred in predictions_slope_one]\n",
    "est_knn_user = [pred.est for pred in predictions_knn_user]\n",
    "est_knn_movie = [pred.est for pred in predictions_knn_movie]\n",
    "est_global = [mean for i in range(len(ruis))]\n",
    "est_user_mean = [predict_user(u, users, mean) for u in uids]\n",
    "est_movie_mean = [predict_movie(m, movies, mean) for m in mids]"
   ]
  },
  {
   "cell_type": "code",
   "execution_count": null,
   "metadata": {
    "collapsed": true
   },
   "outputs": [],
   "source": [
    "global_rmse = math.sqrt(sum([(a-b)**2 for (a,b) in zip(ruis, est_global)])/len(ruis))\n",
    "user_rmse = math.sqrt(sum([(a-b)**2 for (a,b) in zip(ruis, est_user_mean)])/len(ruis))\n",
    "movie_rmse = math.sqrt(sum([(a-b)**2 for (a,b) in zip(ruis, est_movie_mean)])/len(ruis))"
   ]
  },
  {
   "cell_type": "code",
   "execution_count": null,
   "metadata": {
    "collapsed": true
   },
   "outputs": [],
   "source": [
    "X_train, X_test, y_train, y_test = train_test_split(X, y, test_size=0.25, random_state=200)"
   ]
  },
  {
   "cell_type": "code",
   "execution_count": null,
   "metadata": {
    "collapsed": true
   },
   "outputs": [],
   "source": [
    "#Cross validation iterator and grid search\n",
    "cv_ridge = skFold(n_splits=3, random_state=200)\n",
    "gs_ridge = RidgeCV(alphas=[10**-i for i in range(-5,10)], fit_intercept=False, scoring=\"neg_mean_squared_error\", cv=cv_ridge)"
   ]
  },
  {
   "cell_type": "code",
   "execution_count": null,
   "metadata": {
    "collapsed": true
   },
   "outputs": [],
   "source": [
    "#Note that fit finds the best hyperparameter then refit on the whole data\n",
    "gs_ridge.fit(X_train, y_train)\n",
    "print('Best lambda: ', gs_ridge.alpha_)\n",
    "print('Weights: ', gs_ridge.coef_)"
   ]
  },
  {
   "cell_type": "code",
   "execution_count": null,
   "metadata": {
    "collapsed": true
   },
   "outputs": [],
   "source": [
    "preds_blend = gs_ridge.predict(X_test)"
   ]
  },
  {
   "cell_type": "code",
   "execution_count": null,
   "metadata": {
    "collapsed": true
   },
   "outputs": [],
   "source": [
    "blend_rmse = np.sqrt(np.mean((y_test-preds_blend)**2))\n",
    "print('Model blending RMSE on validation set: ', blend_rmse)"
   ]
  }
 ],
 "metadata": {
  "kernelspec": {
   "display_name": "Python 3",
   "language": "python",
   "name": "python3"
  },
  "language_info": {
   "codemirror_mode": {
    "name": "ipython",
    "version": 3
   },
   "file_extension": ".py",
   "mimetype": "text/x-python",
   "name": "python",
   "nbconvert_exporter": "python",
   "pygments_lexer": "ipython3",
   "version": "3.7.3"
  }
 },
 "nbformat": 4,
 "nbformat_minor": 2
}
